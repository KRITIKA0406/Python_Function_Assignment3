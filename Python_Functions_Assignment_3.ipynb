{
  "nbformat": 4,
  "nbformat_minor": 0,
  "metadata": {
    "colab": {
      "provenance": []
    },
    "kernelspec": {
      "name": "python3",
      "display_name": "Python 3"
    },
    "language_info": {
      "name": "python"
    }
  },
  "cells": [
    {
      "cell_type": "markdown",
      "source": [
        "                        Theory questions and answers"
      ],
      "metadata": {
        "id": "qdmX8yvs-Sdz"
      }
    },
    {
      "cell_type": "markdown",
      "source": [
        "#1.What is difference between a function and a method in python.\n",
        "#ans:-A function is block of reusable code that performs a specific task and can be called independently.\n",
        "e.g-len(),print(),sum()\n",
        "\n",
        "A method is function that belongs to an object or class and is called using dot notation.\n",
        "e.g- string.upper(),list.append(),dict.key()\n",
        "\n",
        "The main difference is that methods are associated with objects/classes while functions are not."
      ],
      "metadata": {
        "id": "hwM-5mlG-ZHY"
      }
    },
    {
      "cell_type": "code",
      "source": [
        "# function definition - standalone are not attached to any object\n",
        "def my_function(text):\n",
        "    return text.upper()\n",
        "# using a built in method of a string object\n",
        "my_string = \"hello kritika\"\n",
        "method_result = my_string.upper()  # .upper() is a method of string objects\n",
        "\n",
        "function_result = my_function(my_string) # passing the string as an argument\n",
        "\n",
        "print(f\"Method result: {method_result}\")\n",
        "print(f\"Function result: {function_result}\")\n",
        "print(f\"Both approaches give the same output: {method_result == function_result}\")"
      ],
      "metadata": {
        "colab": {
          "base_uri": "https://localhost:8080/"
        },
        "id": "GqkjfNAZ_mGA",
        "outputId": "2b7fe2b6-4b14-4acb-ff33-76bca2e5afee"
      },
      "execution_count": null,
      "outputs": [
        {
          "output_type": "stream",
          "name": "stdout",
          "text": [
            "Method result: HELLO KRITIKA\n",
            "Function result: HELLO KRITIKA\n",
            "Both approaches give the same output: True\n"
          ]
        }
      ]
    },
    {
      "cell_type": "markdown",
      "source": [
        "#2. Explain the concept of function arguments and parameters in Python?\n",
        "#ans:-Function arguments and parameters in python\n",
        "parameter\n",
        "1.parameters are variable listed in the function definition.\n",
        "2.acts as a variable in the function\n",
        "\n",
        "*arguments\n",
        "1.passing during the function call\n",
        "2.actual value supplied to the function\n",
        "\n",
        "types of arguments\n",
        "1.positional arguments\n",
        "2.keyword arguments\n",
        "3.default arguments\n"
      ],
      "metadata": {
        "id": "jMW6hPkeBZDd"
      }
    },
    {
      "cell_type": "code",
      "source": [
        "# function with parameters\n",
        "def add_numbers(a,b):\n",
        "    return a+b\n",
        "# passing arguments\n",
        "result = add_numbers(5,3)\n",
        "print(result)"
      ],
      "metadata": {
        "colab": {
          "base_uri": "https://localhost:8080/"
        },
        "id": "n9ETYYLUCQmi",
        "outputId": "180cf3b2-9eb4-4056-fba4-de3cbec503fd"
      },
      "execution_count": null,
      "outputs": [
        {
          "output_type": "stream",
          "name": "stdout",
          "text": [
            "8\n"
          ]
        }
      ]
    },
    {
      "cell_type": "code",
      "source": [
        "# variable length arguments\n",
        "def summarize(*args, **kwargs):\n",
        "    print(f\"Positional : {args}\")\n",
        "    print(f\"keyword : {kwargs}\")\n",
        "\n",
        "summarize(1, 2, name=\"kritika\", age=26)"
      ],
      "metadata": {
        "colab": {
          "base_uri": "https://localhost:8080/"
        },
        "id": "EMX0Go08CrgH",
        "outputId": "4cec777d-20fa-4364-94af-f13f1769ef1c"
      },
      "execution_count": null,
      "outputs": [
        {
          "output_type": "stream",
          "name": "stdout",
          "text": [
            "Positional : (1, 2)\n",
            "keyword : {'name': 'kritika', 'age': 26}\n"
          ]
        }
      ]
    },
    {
      "cell_type": "markdown",
      "source": [
        "#3.What are different ways to define and call a function in python?\n",
        "#ans-Different ways to define and call a function in Python.\n",
        "a-function with parameter\n",
        "b-function with default parameter\n",
        "c-function with variable length argument\n",
        "d-lambda function(anonymous function)\n",
        "e-functional with positional arguments\n",
        "f-function with keyboard only arguments\n",
        "g-recursive function\n",
        "h-calling function with positonal and keyword arguments"
      ],
      "metadata": {
        "id": "ZXNCyuFgDXR9"
      }
    },
    {
      "cell_type": "code",
      "source": [
        "# function with parameters\n",
        "def greet(name, message):\n",
        "  print(f\"{message}, {name}!!\")\n",
        "\n",
        "# calling with positional arguments\n",
        "greet(\"kritika\", \"Hello\")\n",
        "# calling with keyword arguments\n",
        "greet(message = \"HI\", name = \"kritika\")"
      ],
      "metadata": {
        "colab": {
          "base_uri": "https://localhost:8080/"
        },
        "id": "5FVUoG8QEbTG",
        "outputId": "1cacd63b-b81d-48b4-e239-0a55df4dbe53"
      },
      "execution_count": null,
      "outputs": [
        {
          "output_type": "stream",
          "name": "stdout",
          "text": [
            "Hello, kritika!!\n",
            "HI, kritika!!\n"
          ]
        }
      ]
    },
    {
      "cell_type": "code",
      "source": [
        "# function with default parameters\n",
        "def greet(name ,message = \"Hello\"):\n",
        "    print(f\"{message},  {name}\")\n",
        "\n",
        "greet(\"kritika\")\n",
        "greet(\"kritika\", \"Good Morning\")"
      ],
      "metadata": {
        "colab": {
          "base_uri": "https://localhost:8080/"
        },
        "id": "7ycspFFHFO1-",
        "outputId": "f24d5972-30f8-48ff-e7c8-18d6df0f8e97"
      },
      "execution_count": null,
      "outputs": [
        {
          "output_type": "stream",
          "name": "stdout",
          "text": [
            "Hello,  kritika\n",
            "Good Morning,  kritika\n"
          ]
        }
      ]
    },
    {
      "cell_type": "code",
      "source": [
        "# Decorator function\n",
        "def simple_decorator(func):\n",
        "    def wrapper():\n",
        "        print(\"Before function call !!! \")\n",
        "        func()\n",
        "        print(\"After function call !!! \")\n",
        "    return wrapper\n",
        "@simple_decorator\n",
        "def say_hello():\n",
        "      print(\"Hello !!! \")\n",
        "\n",
        "say_hello()\n",
        "\n"
      ],
      "metadata": {
        "colab": {
          "base_uri": "https://localhost:8080/"
        },
        "id": "2rE_nZD3F2gD",
        "outputId": "12e62ea3-94d4-4c97-ebdc-fbdd480bdea6"
      },
      "execution_count": null,
      "outputs": [
        {
          "output_type": "stream",
          "name": "stdout",
          "text": [
            "Before function call !!! \n",
            "Hello !!! \n",
            "After function call !!! \n"
          ]
        }
      ]
    },
    {
      "cell_type": "code",
      "source": [
        "import time\n",
        "def timer_decorator(func):\n",
        "    def wrapper():\n",
        "        start_time = time.time()\n",
        "        func()\n",
        "        end_time = time.time()\n",
        "        print(f\"Function took {end_time -start_time:.4f} second \")\n",
        "    return wrapper\n",
        "@timer_decorator\n",
        "def slow_function():\n",
        "    time.sleep(2)  # simulate a slow operation\n",
        "    print(\"Function Completed !!! \")\n",
        "\n",
        "slow_function()"
      ],
      "metadata": {
        "colab": {
          "base_uri": "https://localhost:8080/"
        },
        "id": "qKtPJHNrHZ8H",
        "outputId": "dcae333d-7ea9-4268-9cba-141f9be80f34"
      },
      "execution_count": null,
      "outputs": [
        {
          "output_type": "stream",
          "name": "stdout",
          "text": [
            "Function Completed !!! \n",
            "Function took 2.0003 second \n"
          ]
        }
      ]
    },
    {
      "cell_type": "markdown",
      "source": [
        "#4.What is the purpose of the 'return' statement in a Python function?\n",
        "#ans:-The 'return' statement in a python function serve several important purpose."
      ],
      "metadata": {
        "id": "1xLQUmb4Irmx"
      }
    },
    {
      "cell_type": "code",
      "source": [
        "#1. Sending data back from a function\n",
        "\n",
        "def add_numbers(a,b):\n",
        "    result = a+b\n",
        "    return result\n",
        "\n",
        "sum_result = add_numbers(5,3)\n",
        "print(sum_result)"
      ],
      "metadata": {
        "colab": {
          "base_uri": "https://localhost:8080/"
        },
        "id": "WHTc2cTqJJd0",
        "outputId": "836bc100-807f-4958-bba0-562faf8eb61d"
      },
      "execution_count": null,
      "outputs": [
        {
          "output_type": "stream",
          "name": "stdout",
          "text": [
            "8\n"
          ]
        }
      ]
    },
    {
      "cell_type": "code",
      "source": [
        "# Early exit from function\n",
        "\n",
        "def find_first_even(numbers):\n",
        "    for num in numbers:\n",
        "        if num%2 == 0:\n",
        "             return num # Exit early when first even is found\n",
        "\n",
        "    return None\n",
        "print(find_first_even([1, 3, 5, 2, 7, 4]))\n",
        "print(find_first_even([1, 3, 5, 7]))\n"
      ],
      "metadata": {
        "colab": {
          "base_uri": "https://localhost:8080/"
        },
        "id": "XJHTGnFIJsbk",
        "outputId": "ec044061-5800-47be-a033-171897019333"
      },
      "execution_count": null,
      "outputs": [
        {
          "output_type": "stream",
          "name": "stdout",
          "text": [
            "2\n",
            "None\n"
          ]
        }
      ]
    },
    {
      "cell_type": "code",
      "source": [
        "# 3. implict return of none\n",
        "\n",
        "def say_hello(name):\n",
        "    print(f\"Hello, {name} !!! \")\n",
        "    # No return statement\n",
        "result = say_hello(\"kritika\")\n",
        "print(result)\n",
        "\n",
        "def empty_return():\n",
        "    return\n",
        "    # This is equivalent to return None\n",
        "\n",
        "result = empty_return()\n",
        "print(result)"
      ],
      "metadata": {
        "colab": {
          "base_uri": "https://localhost:8080/"
        },
        "id": "SWYM6y1EK6f3",
        "outputId": "78c5d72e-db5b-4183-c065-6799b0b40477"
      },
      "execution_count": null,
      "outputs": [
        {
          "output_type": "stream",
          "name": "stdout",
          "text": [
            "Hello, kritika !!! \n",
            "None\n",
            "None\n"
          ]
        }
      ]
    },
    {
      "cell_type": "markdown",
      "source": [
        "# 5. What are iterators in Python and how do they differ from iterables?\n",
        "Iterable>> An iterables is  any python object capable of returning its element one at a time it implements the 'iter()' method ,which returns an iterator\n",
        "\n",
        "common iterables:\n",
        "list,Tuples,Strings,Dictionaries,Sets"
      ],
      "metadata": {
        "id": "LTncRyR9L4qC"
      }
    },
    {
      "cell_type": "code",
      "source": [
        "# common iterables\n",
        "my_lists = [1, 2, 3] # list\n",
        "my_string = \"Hello kritka\" # string\n",
        "my_dict = {'a': 1, 'b': 2} # Dictionary"
      ],
      "metadata": {
        "id": "r5uBifDtMxxo"
      },
      "execution_count": null,
      "outputs": []
    },
    {
      "cell_type": "code",
      "source": [
        "my_list = [1, 2, 3]\n",
        "my_iterator = iter(my_list) # Create itreator from list\n",
        "\n",
        "print(next(my_iterator)) # Output:1\n",
        "print(next(my_iterator)) # Output:2\n",
        "print(next(my_iterator)) # Output:3\n",
        "# print(next(my_iteraator)) # Would raise StopIteration error"
      ],
      "metadata": {
        "colab": {
          "base_uri": "https://localhost:8080/"
        },
        "id": "uzOwY2yLNOc8",
        "outputId": "8a51f723-52c4-4cee-f237-05029ce22e59"
      },
      "execution_count": null,
      "outputs": [
        {
          "output_type": "stream",
          "name": "stdout",
          "text": [
            "1\n",
            "2\n",
            "3\n"
          ]
        }
      ]
    },
    {
      "cell_type": "code",
      "source": [
        "# Ireable can be reused\n",
        "numbers = [1, 2, 3]\n",
        "for num in numbers:\n",
        "    print(f\"First Loop : {num}\")\n",
        "for num in numbers:\n",
        "    print(f\"Second   Loop: {num}\")\n",
        "\n",
        "numbers_iter = iter(numbers)\n",
        "for num in numbers_iter:\n",
        "    print(f\"First iterator Loop :  {num}\")\n",
        "for num in numbers_iter:\n",
        "    print(f\"Second iterator Loop : {num}\") # no output -> iterator is exhausted ."
      ],
      "metadata": {
        "colab": {
          "base_uri": "https://localhost:8080/"
        },
        "id": "iQXVw_EhONbR",
        "outputId": "d35471c5-3ca4-4314-bda9-4197e4a3e1cf"
      },
      "execution_count": null,
      "outputs": [
        {
          "output_type": "stream",
          "name": "stdout",
          "text": [
            "First Loop : 1\n",
            "First Loop : 2\n",
            "First Loop : 3\n",
            "Second   Loop: 1\n",
            "Second   Loop: 2\n",
            "Second   Loop: 3\n",
            "First iterator Loop :  1\n",
            "First iterator Loop :  2\n",
            "First iterator Loop :  3\n"
          ]
        }
      ]
    },
    {
      "cell_type": "markdown",
      "source": [
        "#6.Explain the concept of generator in Python and how they are denied.\n",
        "#ans:-Generators uses the \"yield\" keyword instead of 'return' to produce a series of values one at a time.\n",
        "\n",
        "When a generator function is called,it returns a generator object without executing the function immediately .They function only runs when you request the next time."
      ],
      "metadata": {
        "id": "Lq_AE00M68CI"
      }
    },
    {
      "cell_type": "code",
      "source": [
        "# Basic Generator Example\n",
        "def simple_generator():\n",
        "    yield 1\n",
        "    yield 2\n",
        "    yield 3\n",
        "gen = simple_generator()\n",
        "print(next(gen))\n",
        "print(next(gen))\n",
        "print(next(gen))\n",
        "# print(next(gen)) # Would raise stopIteration\n"
      ],
      "metadata": {
        "colab": {
          "base_uri": "https://localhost:8080/"
        },
        "id": "1LirC23w7133",
        "outputId": "1e53075a-ea89-4bbf-8700-2d05b8bad36e"
      },
      "execution_count": 1,
      "outputs": [
        {
          "output_type": "stream",
          "name": "stdout",
          "text": [
            "1\n",
            "2\n",
            "3\n"
          ]
        }
      ]
    },
    {
      "cell_type": "code",
      "source": [
        "# Generator with a loop\n",
        "\n",
        "def count_up_to(n):\n",
        "    count = 1\n",
        "    while count <= n:\n",
        "         yield count\n",
        "         count+=1\n",
        "# Using the generator\n",
        "counter = count_up_to(5)\n",
        "for num in counter:\n",
        "    print(num)"
      ],
      "metadata": {
        "colab": {
          "base_uri": "https://localhost:8080/"
        },
        "id": "dQSi1sBb8u5V",
        "outputId": "ab45c851-2e80-4240-e80b-7a6b0236945b"
      },
      "execution_count": 2,
      "outputs": [
        {
          "output_type": "stream",
          "name": "stdout",
          "text": [
            "1\n",
            "2\n",
            "3\n",
            "4\n",
            "5\n"
          ]
        }
      ]
    },
    {
      "cell_type": "code",
      "source": [
        "# Generator Expressions\n",
        "squares_gen = (x*x for x in range(5))\n",
        "\n",
        "# Using the generator\n",
        "for square in squares_gen:\n",
        "    print(square)\n",
        "\n",
        "square_list = [x*x for x in range(5)]\n",
        "print(square_list)"
      ],
      "metadata": {
        "colab": {
          "base_uri": "https://localhost:8080/"
        },
        "id": "90bJhIwd9VMN",
        "outputId": "a6eaf1a9-f0c6-4974-b5ca-0bd237a147a6"
      },
      "execution_count": 3,
      "outputs": [
        {
          "output_type": "stream",
          "name": "stdout",
          "text": [
            "0\n",
            "1\n",
            "4\n",
            "9\n",
            "16\n",
            "[0, 1, 4, 9, 16]\n"
          ]
        }
      ]
    },
    {
      "cell_type": "markdown",
      "source": [
        "#7.What are advantages of using generators over regular functions?"
      ],
      "metadata": {
        "id": "1p7jn-fa-IXV"
      }
    },
    {
      "cell_type": "code",
      "source": [
        " # 1. Pipeline Processing\n",
        " #  Generator excel at creating data processing pipelines.\n",
        "\n",
        " # 2. Infinite sequence\n",
        " #  Generators can be represent infinite sequence that would be impossible with regular function\n",
        "\n",
        " def infinite_counter():\n",
        "    count = 0\n",
        "    while True:\n",
        "         yield count\n",
        "         count+=1\n",
        " # usage\n",
        " counter = infinite_counter()\n",
        " print(next(counter))\n",
        " print(next(counter))"
      ],
      "metadata": {
        "colab": {
          "base_uri": "https://localhost:8080/"
        },
        "id": "mWnr2Y6F_cSO",
        "outputId": "d6efe816-3640-4d52-fca8-d3935af8f65c"
      },
      "execution_count": 5,
      "outputs": [
        {
          "output_type": "stream",
          "name": "stdout",
          "text": [
            "0\n",
            "1\n"
          ]
        }
      ]
    },
    {
      "cell_type": "code",
      "source": [
        " # 3. Better performance for large data :\n",
        " #  Generator avoid the overhead building and returning large data structures.\n",
        "\n",
        " import time\n",
        " def large_list_function(n):\n",
        "     result = []\n",
        "     for i in range(n):\n",
        "         result.append(i)\n",
        "     return result\n",
        " def large_generator_function(n):\n",
        "     for i in range(n):\n",
        "         yield i\n",
        "\n",
        " # time the first 1000 items from 1 million\n",
        " n = 1000000\n",
        "\n",
        " # Regular function approach (builds entire list first)\n",
        " start = time.time()\n",
        " list_result = large_list_function(n)\n",
        " first_1000  = list_result[:1000]\n",
        " list_time = time.time() - start\n",
        "\n",
        " # Generator approach (only generates what's needed)\n",
        " start = time.time()\n",
        " gen_result = large_generator_function(n)\n",
        " first_1000_gen = [next(gen_result) for _ in range(1000)]\n",
        " gen_time = time.time() - start\n",
        "\n",
        " print(f\"List time: {list_time:.4f}s\")\n",
        " print(f\"Generator time: {gen_time:.4f}s\")\n",
        " # Generator will be significantly faster for this use case"
      ],
      "metadata": {
        "colab": {
          "base_uri": "https://localhost:8080/"
        },
        "id": "tTguqts_AE3U",
        "outputId": "cc2e7375-e11c-4867-e737-1ef07757d1df"
      },
      "execution_count": 12,
      "outputs": [
        {
          "output_type": "stream",
          "name": "stdout",
          "text": [
            "List time: 0.0598s\n",
            "Generator time: 0.0003s\n"
          ]
        }
      ]
    },
    {
      "cell_type": "markdown",
      "source": [
        "Use generators when:  you only need part of data\n",
        "you are working with large data sets\n",
        "memory efficiency is important\n",
        "you are processing data in a pipeline"
      ],
      "metadata": {
        "id": "00Wt3cV6FwHH"
      }
    },
    {
      "cell_type": "code",
      "source": [
        " # This is like amazing pizzas one at on time as people order them\n",
        " def make_pizzas_on_demand(n):\n",
        "     for i in range(n):\n",
        "        pizza = f\"pizza #{i+1}\" # Make just one pizza\n",
        "        yield pizza             # Serve it immediately\n",
        "\n",
        " # You start serving immediately\n",
        " pizza_maker = make_pizzas_on_demand(1000)\n",
        " # Get pizzas only as needed\n",
        " first_few_pizzas = [next(pizza_maker) for _ in range(10)]\n"
      ],
      "metadata": {
        "id": "xwPOwU98GOl7"
      },
      "execution_count": 13,
      "outputs": []
    },
    {
      "cell_type": "markdown",
      "source": [
        "#8. What is lambda function in Python and when is it typically used?\n",
        "#ans:-A lambda function in Python is a small,anonymous fuction (a function withuot a name) that can have any number of arguments but can only have one expression."
      ],
      "metadata": {
        "id": "rslGQmZNHnj8"
      }
    },
    {
      "cell_type": "code",
      "source": [
        " # Regular function\n",
        " def add(x, y):\n",
        "     return x + y\n",
        "\n",
        " # Equivalent lambda function\n",
        " add_lambda = lambda x, y: x + y\n",
        "\n",
        " print(add(5, 3))        # Output:8\n",
        " print(add_lambda(5, 3)) # Output:8"
      ],
      "metadata": {
        "colab": {
          "base_uri": "https://localhost:8080/"
        },
        "id": "TqmpLgUfIPn4",
        "outputId": "4ab0ecf8-f21c-4c60-d50a-441cdb918e0f"
      },
      "execution_count": 14,
      "outputs": [
        {
          "output_type": "stream",
          "name": "stdout",
          "text": [
            "8\n",
            "8\n"
          ]
        }
      ]
    },
    {
      "cell_type": "code",
      "source": [
        " # sorting a list of tuple by the second element\n",
        " pairs = [(1, 'one'), (2, 'two'), (3, 'three'), (4, 'four')]\n",
        " sorted_pairs = sorted(pairs, key = lambda x:x[1])\n",
        " print(sorted_pairs)\n",
        "\n",
        " # Sorted by string length\n",
        " words = ['apple', 'banana', 'cherry', 'date']\n",
        " sorted_words = sorted(words, key=lambda x:len(x))\n",
        " print(sorted_words)"
      ],
      "metadata": {
        "colab": {
          "base_uri": "https://localhost:8080/"
        },
        "id": "bI6LC6lIJFUL",
        "outputId": "78a0f405-2483-4dd1-ada7-4506238b3a78"
      },
      "execution_count": 15,
      "outputs": [
        {
          "output_type": "stream",
          "name": "stdout",
          "text": [
            "[(4, 'four'), (1, 'one'), (3, 'three'), (2, 'two')]\n",
            "['date', 'apple', 'banana', 'cherry']\n"
          ]
        }
      ]
    },
    {
      "cell_type": "code",
      "source": [
        " # Creating a list of functions\n",
        " function = [lambda x, i=i: x+i  for i in range(5)]\n",
        " print(function[2](10))\n",
        " \"\"\"\n",
        " So, let's break down\n",
        "   when i=0: we create lambda function:lambda x, i=0: x + i\n",
        "   when i=1: we create lambda function:lambda x, i=1: x + i\n",
        "   when i=2: we create lambda function:lambda x, i=2: x + i\n",
        "   when i=3: we create lambda function:lambda x, i=3: x + i\n",
        "   when i=4: we create lambda function:lambda x, i=4: x + i\n",
        "   Now, the list 'functions' has 5 lambda functions, each with default argument i set 0, 1, 2, 3, 4 respectively.\n",
        "   Then we call fuction[2] with x=10. This is the lambda function that was created when i=2, so it has i=2 as default.\n",
        "   Therefore, the function call is: lambda x=10, i=2, 10+2 -> 12.\n",
        "   So the output is 12\n",
        "  \"\"\"\n",
        "\n",
        " # Simple math operation\n",
        " operations = {\n",
        "     'add': lambda x, y: x+y,\n",
        "     'subtract': lambda x, y: x-y,\n",
        "     'multiply' : lambda x, y: x*y\n",
        " }\n",
        " print(operations['add'](5, 3))\n",
        " print(operations['multiply'](5, 3))\n"
      ],
      "metadata": {
        "colab": {
          "base_uri": "https://localhost:8080/"
        },
        "id": "9IuwgkJZKVN0",
        "outputId": "1d0e39c1-900f-45b9-b35f-75064b311b53"
      },
      "execution_count": 17,
      "outputs": [
        {
          "output_type": "stream",
          "name": "stdout",
          "text": [
            "12\n",
            "8\n",
            "15\n"
          ]
        }
      ]
    },
    {
      "cell_type": "markdown",
      "source": [
        "#9. Explain the purpose and uasage of the 'map()'function in Python.\n",
        "#ans:-The 'map()' function is build in python fumction that allows you to apply a given function to every item in an iterable(like a list,tuple,etc)and return an iterator of the results.\n",
        "\n",
        "key characterstics:\n",
        "1. lazy evalution:map() returns an iterator, not a list\n",
        "2. memory efficient process item one at a time without storing all reults in memory.\n",
        "3. flexible can work with any iterable and any fuction that takes arguments."
      ],
      "metadata": {
        "id": "-gIPhFXmPriH"
      }
    },
    {
      "cell_type": "code",
      "source": [
        " # Converts list of number strings to integers\n",
        "\n",
        " str_nums = ['1', '2', '3', '4']\n",
        " int_nums = list(map(int, str_nums))\n",
        " print(int_nums)"
      ],
      "metadata": {
        "colab": {
          "base_uri": "https://localhost:8080/"
        },
        "id": "8tpHIFQmRDqA",
        "outputId": "21f9bf30-8523-4cc3-87f3-1e9591f00396"
      },
      "execution_count": 18,
      "outputs": [
        {
          "output_type": "stream",
          "name": "stdout",
          "text": [
            "[1, 2, 3, 4]\n"
          ]
        }
      ]
    },
    {
      "cell_type": "code",
      "source": [
        " # Chaining Map function\n",
        " # Multiple transformations\n",
        " numbers = [1, 2, 3, 4, 5]\n",
        " # square, the convert to string\n",
        " result = list(map(str, map(lambda x: x**2, numbers)))\n",
        " print(result)"
      ],
      "metadata": {
        "colab": {
          "base_uri": "https://localhost:8080/"
        },
        "id": "j_g6t85jRn5w",
        "outputId": "38210790-ad1c-490e-fc3a-d6d48cd2e62b"
      },
      "execution_count": 19,
      "outputs": [
        {
          "output_type": "stream",
          "name": "stdout",
          "text": [
            "['1', '4', '9', '16', '25']\n"
          ]
        }
      ]
    },
    {
      "cell_type": "code",
      "source": [
        " names = [' john  ', '  Mary  ', '  peter  ']\n",
        " cleaned_names = list(map(lambda x : x.strip().title(), names))\n",
        " print(cleaned_names)"
      ],
      "metadata": {
        "colab": {
          "base_uri": "https://localhost:8080/"
        },
        "id": "41H2OWLkSOjI",
        "outputId": "0011dda9-463c-411e-b1f0-e3284310aa26"
      },
      "execution_count": 20,
      "outputs": [
        {
          "output_type": "stream",
          "name": "stdout",
          "text": [
            "['John', 'Mary', 'Peter']\n"
          ]
        }
      ]
    },
    {
      "cell_type": "code",
      "source": [
        " # Using map ( more efficient for simple transformations)\n",
        " result_map = list(map(lambda x: x*2, range(10)))\n",
        "\n",
        " # Using list cpmprehension (more readable for complex operation)\n",
        " result_comp = [x*2 for x in range(10)]\n",
        "\n",
        " print(result_map == result_comp)  # Output: True"
      ],
      "metadata": {
        "colab": {
          "base_uri": "https://localhost:8080/"
        },
        "id": "Fj8rXYTaS7Yz",
        "outputId": "d31668ea-5a7f-44f5-a14a-7c0e1848c255"
      },
      "execution_count": 21,
      "outputs": [
        {
          "output_type": "stream",
          "name": "stdout",
          "text": [
            "True\n"
          ]
        }
      ]
    },
    {
      "cell_type": "markdown",
      "source": [
        "#10. What is the difference between 'map()', 'reduce()', and 'filter()'fuction in python?\n",
        "# ans:-"
      ],
      "metadata": {
        "id": "zwn93I7wT7UQ"
      }
    },
    {
      "cell_type": "code",
      "source": [
        "# map()  :>>\n",
        "# when we need to transform each element\n",
        "# Built-in (no import needed)\n",
        "# Returns an iterator\n",
        "# Apply a function to every item in an iterable.\n",
        "\n",
        "# Syntax: map(function, iterable)\n",
        "\n",
        "# Double each number\n",
        "numbers = [1, 2, 3, 4, 5]\n",
        "doubled = list(map(lambda x: x * 2, numbers))\n",
        "print(doubled)\n",
        "\n",
        "# Convert to uppercase\n",
        "words = ['hello', 'world', 'pythom']\n",
        "uppercase = list(map(str.upper, words))\n",
        "print(uppercase)"
      ],
      "metadata": {
        "colab": {
          "base_uri": "https://localhost:8080/"
        },
        "id": "wpxi3nEVUMML",
        "outputId": "84d7b30c-ab3a-4d9e-d515-6dc898893835"
      },
      "execution_count": 23,
      "outputs": [
        {
          "output_type": "stream",
          "name": "stdout",
          "text": [
            "[2, 4, 6, 8, 10]\n",
            "['HELLO', 'WORLD', 'PYTHOM']\n"
          ]
        }
      ]
    },
    {
      "cell_type": "code",
      "source": [
        " # filter() :>>\n",
        " # when we need to select elements based on a condition\n",
        " # Built-in (no import needed)\n",
        " # Returns an iterator\n",
        "\n",
        " # Syntax: filter(function, iterable)\n",
        "\n",
        "\n",
        "# Get even numbers\n",
        "numbers = [1, 2, 3, 4, 5, 6, 7, 8, 9, 10]\n",
        "even = list(filter(lambda x: x % 2 ==0, numbers))\n",
        "print(even)\n",
        "\n",
        "# Get words longer than 5 characters\n",
        "words = ['apple', 'banana', 'cheery', 'date', 'elederberry']\n",
        "long_words = list(filter(lambda x: len(x) > 5, words))\n",
        "print(long_words)"
      ],
      "metadata": {
        "colab": {
          "base_uri": "https://localhost:8080/"
        },
        "id": "7Nnce3JDWAMl",
        "outputId": "d83c4fbf-3c7c-4acd-c6e6-71757cb07233"
      },
      "execution_count": 25,
      "outputs": [
        {
          "output_type": "stream",
          "name": "stdout",
          "text": [
            "[2, 4, 6, 8, 10]\n",
            "['banana', 'cheery', 'elederberry']\n"
          ]
        }
      ]
    },
    {
      "cell_type": "code",
      "source": [
        " # reduce()  :>>\n",
        " # comulatively applies a function to pairs of item in an iterable to reduce it a string value(e.g., sum, product).\n",
        " # Requires importing from functools\n",
        "\n",
        " from functools import reduce\n",
        " numbers = [1, 2, 3, 4]\n",
        " product = reduce(lambda x, y: x * y, numbers) # Output: 24 (1*2*3*4)\n",
        " print(product)"
      ],
      "metadata": {
        "colab": {
          "base_uri": "https://localhost:8080/"
        },
        "id": "YUbofqojqRXM",
        "outputId": "72ff2cd3-2d0c-4822-efec-14ad1f2ba16d"
      },
      "execution_count": 54,
      "outputs": [
        {
          "output_type": "stream",
          "name": "stdout",
          "text": [
            "24\n"
          ]
        }
      ]
    },
    {
      "cell_type": "markdown",
      "source": [
        "# 11.![WhatsApp Image 2025-08-27 at 10.48.00 PM.jpeg](data:image/jpeg;base64,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)Using a pen & paper write the internal mechanism for sum operation using reduce function on given list[47, 11, 42, 13]."
      ],
      "metadata": {
        "id": "P341d86YqGgr"
      }
    },
    {
      "cell_type": "markdown",
      "source": [
        "                        Practical Questions"
      ],
      "metadata": {
        "id": "irnamT7g1Tuq"
      }
    },
    {
      "cell_type": "code",
      "source": [
        "#1.Write a Python function that takes a list of numbers as input and returns the sum of all even numbers in the list.\n",
        "#ans:-\n",
        "def sum_even_numbers(numbers):\n",
        "    total = 0\n",
        "    for num in numbers:\n",
        "        if num % 2 == 0: # check if even\n",
        "            total += num\n",
        "    return total\n",
        "\n",
        "# Example usage\n",
        "nums = [1, 2, 3, 4, 5, 6]\n",
        "result = sum_even_numbers(nums)\n",
        "print(\"Sum of even numbers:\",  result)"
      ],
      "metadata": {
        "colab": {
          "base_uri": "https://localhost:8080/"
        },
        "id": "8Kd_qHSJ1dZo",
        "outputId": "1c5e7ebd-30a6-4659-9ef4-3904d353f422"
      },
      "execution_count": null,
      "outputs": [
        {
          "output_type": "stream",
          "name": "stdout",
          "text": [
            "Sum of even numbers: 12\n"
          ]
        }
      ]
    },
    {
      "cell_type": "code",
      "source": [
        "#2:- Create a Python function that acceptS a string and returns the reverse of that string.\n",
        "#ans:-\n",
        "def reverse_string(text):\n",
        "    return text[::-1]  # Slice with step -1 to reverse\n",
        "\n",
        "# Example usage\n",
        "word = \"Vaibhav\"\n",
        "result = reverse_string(word)\n",
        "print(\"Reversed string:\",  result)\n"
      ],
      "metadata": {
        "colab": {
          "base_uri": "https://localhost:8080/"
        },
        "id": "FAmjFQ9-4Wx_",
        "outputId": "aa751d69-938e-4475-8cc4-348a973b58ce"
      },
      "execution_count": null,
      "outputs": [
        {
          "output_type": "stream",
          "name": "stdout",
          "text": [
            "Reversed string: vahbiaV\n"
          ]
        }
      ]
    },
    {
      "cell_type": "code",
      "source": [
        "#3. Implement a Python function that takes a list of integers and returns a new list containing the sqaures of each number.\n",
        "#ans:-\n",
        "def square_list(numbers):\n",
        "    return [num ** 2 for num in numbers]  # List comprehension\n",
        "\n",
        "# Example usage\n",
        "nums = [1, 2, 3, 4, 5]\n",
        "result = square_list(nums)\n",
        "print(\"Squares:\",  result)"
      ],
      "metadata": {
        "colab": {
          "base_uri": "https://localhost:8080/"
        },
        "id": "a58CxLM88WXR",
        "outputId": "316b5866-a942-499a-b739-5ac67cd91c68"
      },
      "execution_count": null,
      "outputs": [
        {
          "output_type": "stream",
          "name": "stdout",
          "text": [
            "Squares: [1, 4, 9, 16, 25]\n"
          ]
        }
      ]
    },
    {
      "cell_type": "code",
      "source": [
        "#4.Write a Python function that checks if a given number is prime or not from 1 to 200.\n",
        "#ans:-\n",
        "def is_prime(num):\n",
        "    if num < 2:\n",
        "        return False\n",
        "    for i in range(2, int(num**0.5) +  1):\n",
        "        if num % i == 0:\n",
        "            return False\n",
        "    return True\n",
        "\n",
        "# print all prime numbers from 1 to 200\n",
        "for n in range (1, 201):\n",
        "    if is_prime(n):\n",
        "        print(n, end=\" \")"
      ],
      "metadata": {
        "colab": {
          "base_uri": "https://localhost:8080/"
        },
        "id": "mbaBrCfb9fDF",
        "outputId": "49f27bba-2cfc-4ef4-d941-b530db4162c4"
      },
      "execution_count": null,
      "outputs": [
        {
          "output_type": "stream",
          "name": "stdout",
          "text": [
            "2 3 5 7 11 13 17 19 23 29 31 37 41 43 47 53 59 61 67 71 73 79 83 89 97 101 103 107 109 113 127 131 137 139 149 151 157 163 167 173 179 181 191 193 197 199 "
          ]
        }
      ]
    },
    {
      "cell_type": "code",
      "source": [
        "#5.Create an iterator class in Python that generates the fibonacci sequence up to a specified number of terms.\n",
        "#ans:-\n",
        "def fibo(n):\n",
        "    a = 0\n",
        "    b = 1\n",
        "    feb_series = []\n",
        "    for i in range(n):\n",
        "        yield a\n",
        "        a, b = b, a+b\n",
        "for i in fibo(10):\n",
        "    print(i)"
      ],
      "metadata": {
        "colab": {
          "base_uri": "https://localhost:8080/"
        },
        "id": "NGcYNlUP-7M_",
        "outputId": "509c1834-a84e-49ea-e02f-33d471c46427"
      },
      "execution_count": null,
      "outputs": [
        {
          "output_type": "stream",
          "name": "stdout",
          "text": [
            "0\n",
            "1\n",
            "1\n",
            "2\n",
            "3\n",
            "5\n",
            "8\n",
            "13\n",
            "21\n",
            "34\n"
          ]
        }
      ]
    },
    {
      "cell_type": "code",
      "source": [
        "#6. Write a generator function in Python that yields the powers of 2 up to a given exponent.\n",
        "#ans:-\n",
        "def powers_of_two(n):\n",
        "    for i in range(n + 1):\n",
        "        yield 2 ** i # Yield powerof 2\n",
        "\n",
        "# Example\n",
        "for value in powers_of_two(5):\n",
        "    print(value, end=\" \")"
      ],
      "metadata": {
        "colab": {
          "base_uri": "https://localhost:8080/"
        },
        "id": "Zadz-Q2pC9CS",
        "outputId": "18c1adfe-b1db-4371-c5ec-285518ae46ff"
      },
      "execution_count": null,
      "outputs": [
        {
          "output_type": "stream",
          "name": "stdout",
          "text": [
            "1 2 4 8 16 32 "
          ]
        }
      ]
    },
    {
      "cell_type": "code",
      "source": [
        "# 7.Implement a generator function thats read a file line by line and yields each line as a string.\n",
        "# Step 1: Create a sample file\n",
        "with open(\"sample.txt\", \"w\") as f:\n",
        "          f.write(\"Hello  !! \\n\")\n",
        "          f.write(\"This is kritika kumari !! \\n\")\n",
        "          f.write(\"Learning Python !! \\n\")\n",
        "# Step 2: Generator function to read file line by line\n",
        "def read_file_line_by_line(file_name):\n",
        "    with open(file_name, \"r\") as file:\n",
        "        for line in file:\n",
        "            yield line.strip() # Strip() removes \\n at the end\n",
        "# Step 3: Use the generator\n",
        "for line in read_file_line_by_line(\"sample.txt\"):\n",
        "    print(line)"
      ],
      "metadata": {
        "colab": {
          "base_uri": "https://localhost:8080/"
        },
        "id": "K7KySBbql9Qr",
        "outputId": "ca68b881-f486-407d-f235-2307e3303708"
      },
      "execution_count": 50,
      "outputs": [
        {
          "output_type": "stream",
          "name": "stdout",
          "text": [
            "Hello  !!\n",
            "This is kritika kumari !!\n",
            "Learning Python !!\n"
          ]
        }
      ]
    },
    {
      "cell_type": "code",
      "source": [
        "#8. Use a lambda function in python to sort a list of tuples based on the second element of each tuple.\n",
        "#ans:-\n",
        "# List of tuples\n",
        "data = [(1, 5), (3, 2), (4, 8), (2, 4)]\n",
        "\n",
        "# Sort by second element\n",
        "sorted_data = sorted(data, key=lambda x: x[1])\n",
        "\n",
        "print(sorted_data)"
      ],
      "metadata": {
        "colab": {
          "base_uri": "https://localhost:8080/"
        },
        "id": "O15vc26aFTPB",
        "outputId": "5f569dd6-3abd-45b8-f312-d27e5c27b321"
      },
      "execution_count": null,
      "outputs": [
        {
          "output_type": "stream",
          "name": "stdout",
          "text": [
            "[(3, 2), (2, 4), (1, 5), (4, 8)]\n"
          ]
        }
      ]
    },
    {
      "cell_type": "code",
      "source": [
        "#9. Write a Python program that uses 'map()' to convert a list of temperature from celsius to fahrenheit.\n",
        "#ans:-\n",
        "# List of temperature in Celsius\n",
        "celsius = [0, 20, 37, 100]\n",
        "\n",
        "# Convert to fahrenheit using map()\n",
        "fahrenheit = list(map(lambda c: (c * 9/5) + 32,  celsius))\n",
        "\n",
        "print(fahrenheit)"
      ],
      "metadata": {
        "colab": {
          "base_uri": "https://localhost:8080/"
        },
        "id": "AP_X5mlPGY03",
        "outputId": "349b0a36-2a45-4e23-94d4-aae49003f980"
      },
      "execution_count": null,
      "outputs": [
        {
          "output_type": "stream",
          "name": "stdout",
          "text": [
            "[32.0, 68.0, 98.6, 212.0]\n"
          ]
        }
      ]
    },
    {
      "cell_type": "code",
      "source": [
        "#10. Create a Python program that uses 'filter()' to remove all the vowels from a given string.\n",
        "#ans:-\n",
        "# Given string\n",
        "text = \"Hello world, Python is amazing!\"\n",
        "\n",
        "# Remove vowels using filter()\n",
        "vowels = \"aeiouAEIOU\"\n",
        "result = \"\".join(filter(lambda ch: ch not in vowels, text))\n",
        "\n",
        "print(result)"
      ],
      "metadata": {
        "colab": {
          "base_uri": "https://localhost:8080/"
        },
        "id": "pQPjQhhHI1As",
        "outputId": "38760e85-f55f-4dee-ce66-3107b8bd9526"
      },
      "execution_count": null,
      "outputs": [
        {
          "output_type": "stream",
          "name": "stdout",
          "text": [
            "Hll wrld, Pythn s mzng!\n"
          ]
        }
      ]
    },
    {
      "cell_type": "code",
      "source": [
        "\n",
        "#11. .............................................\n",
        "#ans:-\n",
        "# Accounting routine with lambda and map\n",
        "\n",
        "# Given data as a list of lists\n",
        "orders =[\n",
        "    [34587, \"Learning Python, Mark lutz\", 4, 40.95],\n",
        "    [98762, \"Programming Python, Mark lutz\", 5, 56.80],\n",
        "    [77226, \"Head first Python,  Paul Barry\",  3, 32.95],\n",
        "    [88112, \"Einfuhrung in Python3, Bernd Klein\", 3, 24.99]\n",
        "]\n",
        "\n",
        "# using lambda and map to process the orders\n",
        "result = list(map(\n",
        "    lambda order: (\n",
        "        order[0], # order Number\n",
        "        order[2] * order[3] if order[2] * order[3] >= 100\n",
        "        else order[2] * order[3] + 10  # Add 10 if total < 100\n",
        "    ),\n",
        "    orders\n",
        "))\n",
        "\n",
        "# Display the result\n",
        "print(\"Order Number | Total Amount\")\n",
        "print(\"----------------------------\")\n",
        "for order_num,total in result:\n",
        "  print(f\"{order_num:11} | {total:12.2f} \")"
      ],
      "metadata": {
        "colab": {
          "base_uri": "https://localhost:8080/"
        },
        "id": "hJ_AsWFaJ7Ah",
        "outputId": "9db2038e-976e-41d0-8ca3-baecb5570d90"
      },
      "execution_count": null,
      "outputs": [
        {
          "output_type": "stream",
          "name": "stdout",
          "text": [
            "Order Number | Total Amount\n",
            "----------------------------\n",
            "      34587 |       163.80 \n",
            "      98762 |       284.00 \n",
            "      77226 |       108.85 \n",
            "      88112 |        84.97 \n"
          ]
        }
      ]
    }
  ]
}